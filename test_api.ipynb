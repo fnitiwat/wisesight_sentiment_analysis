{
 "cells": [
  {
   "cell_type": "code",
   "execution_count": 5,
   "metadata": {},
   "outputs": [
    {
     "name": "stdout",
     "output_type": "stream",
     "text": [
      "{'sentiment': 'neu'}\n"
     ]
    }
   ],
   "source": [
    "import requests\n",
    "\n",
    "\n",
    "endpoint = \"http://localhost:8000/predict\"\n",
    "\n",
    "request_body = {\n",
    "    \"text\": \"สวัสดีครับ\"\n",
    "}\n",
    "\n",
    "response = requests.post(endpoint, json=request_body)\n",
    "response.raise_for_status()\n",
    "response_body = response.json()\n",
    "\n",
    "print(response_body)"
   ]
  }
 ],
 "metadata": {
  "kernelspec": {
   "display_name": "my_test_env",
   "language": "python",
   "name": "my_test_env"
  },
  "language_info": {
   "codemirror_mode": {
    "name": "ipython",
    "version": 3
   },
   "file_extension": ".py",
   "mimetype": "text/x-python",
   "name": "python",
   "nbconvert_exporter": "python",
   "pygments_lexer": "ipython3",
   "version": "3.6.9"
  },
  "orig_nbformat": 4
 },
 "nbformat": 4,
 "nbformat_minor": 2
}
