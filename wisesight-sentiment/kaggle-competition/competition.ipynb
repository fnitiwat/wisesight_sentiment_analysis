{
  "cells": [
    {
      "cell_type": "markdown",
      "metadata": {
        "colab_type": "text",
        "id": "Sx25ddKsETNZ"
      },
      "source": [
        "# `wisesight-sentiment` Kaggle Competition"
      ]
    },
    {
      "cell_type": "markdown",
      "metadata": {
        "colab_type": "text",
        "id": "Uy2VBayeETNb"
      },
      "source": [
        "This notebook details the steps taken to compete in the [WISESIGHT Sentiment Analysis](https://www.kaggle.com/c/wisesight-sentiment/) competition. Competition metric is overall accuracy across `neg`ative, `pos`itive, `neu`tral and `q`uestion classes.\n",
        "\n",
        "Our optimal strategy was:\n",
        "1. Train a logistic regression model (L2 regularization; C=2.0) with tf-idf features (minimum frequency = 20) and predict on the test set. Also output probabilities for each class of the test set.\n",
        "\n",
        "2. Combine the training set with test set labeled by the previous logistic regression model to create the augmented set.\n",
        "\n",
        "3. Finetune a ULMFit language mdoel (minimum frequency = 2) with all data available with the following hyperparameters:\n",
        "\n",
        "```\n",
        "config = dict(emb_sz=400, n_hid=1550, n_layers=4, pad_token=1, qrnn=False, tie_weights=True, out_bias=True,\n",
        "             output_p=0.25, hidden_p=0.1, input_p=0.2, embed_p=0.02, weight_p=0.15)\n",
        "trn_args = dict(drop_mult=1., clip=0.12, alpha=2, beta=1)\n",
        "```\n",
        "\n",
        "4. Train a ULMFit classification model with the augmented set (minimum frequency = 20). Output probabilities for each class of the test set. The hyperparameters are as follows:\n",
        "\n",
        "```\n",
        "config = dict(emb_sz=400, n_hid=1550, n_layers=4, pad_token=1, qrnn=False,\n",
        "             output_p=0.4, hidden_p=0.2, input_p=0.6, embed_p=0.1, weight_p=0.5)\n",
        "trn_args = dict(bptt=70, drop_mult=0.7, alpha=2, beta=1, max_len=500)\n",
        "```\n",
        "\n",
        "5. Take an average the probabilities outputed by model in 1. and 3. Predict the class with the highest average probabilities.\n",
        "\n",
        "At every step, we first trained with a 85/15 validation set for a decent set hyperparameters then train with 95/5 split afterwards before proceeding to the next step.\n",
        "\n",
        "The results for Logistic Regression, FastText, ULMFit, ULMFit with semi-supervised data are as follows:\n",
        "\n",
        "| Model               | Public Accuracy | Private Accuracy |\n",
        "|---------------------|-----------------|------------------|\n",
        "| Logistic Regression | 0.72781         | 0.7499           |\n",
        "| FastText            | 0.63144         | 0.6131           |\n",
        "| ULMFit              | 0.71259         | 0.74194          |\n",
        "| ULMFit Semi-supervised    | 0.73119     | 0.75859      |\n",
        "| ULMFit Semi-supervised Repeated One Time    | **0.73372**     | **0.75968**      |\n",
        "| [USE](https://tfhub.dev/google/universal-sentence-encoder-multilingual/3)    | 0.63987*   |\n",
        "* Done after competition with a test set that was cleaned from 3946 rows to 2674 rows\n",
        "\n",
        "\n",
        "Things that we tried and did not help:\n",
        "\n",
        "* Rules based on error analysis\n",
        "* Sub-model to predict positive class out of those that we predicted as neutral (since `true label = pos / predicted label = neutral` is by far the largest error group)\n",
        "* SVD to decompose tf-idf features\n",
        "* Adding average/sum embeddings of finetuned language model to features\n",
        "* Sparse features and multi-layer perceptrons\n",
        "* Removing duplicated rows\n",
        "* Over/undersampling\n",
        "* Randomly initialized bi-directional AWD-LSTM with \"cleaner\" processing rules\n",
        "* Generate fake samples and retrain with ULMFit"
      ]
    },
    {
      "cell_type": "code",
      "execution_count": null,
      "metadata": {
        "colab": {},
        "colab_type": "code",
        "id": "6psE2wqLEscZ"
      },
      "outputs": [],
      "source": [
        "#uncomment if running from colab\n",
        "# !wget https://github.com/PyThaiNLP/wisesight-sentiment/archive/master.zip; unzip master.zip\n",
        "# !mv wisesight-sentiment-master/kaggle-competition/* .\n",
        "# !pip install tensorflow_text\n",
        "# !pip install https://github.com/PyThaiNLP/pythainlp/archive/dev.zip\n",
        "# !pip install emoji\n",
        "# !ls"
      ]
    },
    {
      "cell_type": "code",
      "execution_count": 1,
      "metadata": {
        "colab": {},
        "colab_type": "code",
        "id": "oJAePtt7ETNc"
      },
      "outputs": [],
      "source": [
        "import pandas as pd\n",
        "import numpy as np\n",
        "from pythainlp import word_tokenize\n",
        "from tqdm import tqdm_notebook\n",
        "import re\n",
        "import emoji\n",
        "\n",
        "#viz\n",
        "from plotnine import *\n",
        "import matplotlib.pyplot as plt\n",
        "import seaborn as sns"
      ]
    },
    {
      "cell_type": "markdown",
      "metadata": {
        "colab_type": "text",
        "id": "mlnwA1VCETNf"
      },
      "source": [
        "## Text Processor for Logistic Regression"
      ]
    },
    {
      "cell_type": "code",
      "execution_count": 2,
      "metadata": {
        "colab": {},
        "colab_type": "code",
        "id": "utauDNxuETNg"
      },
      "outputs": [],
      "source": [
        "def replace_url(text):\n",
        "    URL_PATTERN = r\"\"\"(?i)\\b((?:https?:(?:/{1,3}|[a-z0-9%])|[a-z0-9.\\-]+[.](?:com|net|org|edu|gov|mil|aero|asia|biz|cat|coop|info|int|jobs|mobi|museum|name|post|pro|tel|travel|xxx|ac|ad|ae|af|ag|ai|al|am|an|ao|aq|ar|as|at|au|aw|ax|az|ba|bb|bd|be|bf|bg|bh|bi|bj|bm|bn|bo|br|bs|bt|bv|bw|by|bz|ca|cc|cd|cf|cg|ch|ci|ck|cl|cm|cn|co|cr|cs|cu|cv|cx|cy|cz|dd|de|dj|dk|dm|do|dz|ec|ee|eg|eh|er|es|et|eu|fi|fj|fk|fm|fo|fr|ga|gb|gd|ge|gf|gg|gh|gi|gl|gm|gn|gp|gq|gr|gs|gt|gu|gw|gy|hk|hm|hn|hr|ht|hu|id|ie|il|im|in|io|iq|ir|is|it|je|jm|jo|jp|ke|kg|kh|ki|km|kn|kp|kr|kw|ky|kz|la|lb|lc|li|lk|lr|ls|lt|lu|lv|ly|ma|mc|md|me|mg|mh|mk|ml|mm|mn|mo|mp|mq|mr|ms|mt|mu|mv|mw|mx|my|mz|na|nc|ne|nf|ng|ni|nl|no|np|nr|nu|nz|om|pa|pe|pf|pg|ph|pk|pl|pm|pn|pr|ps|pt|pw|py|qa|re|ro|rs|ru|rw|sa|sb|sc|sd|se|sg|sh|si|sj|Ja|sk|sl|sm|sn|so|sr|ss|st|su|sv|sx|sy|sz|tc|td|tf|tg|th|tj|tk|tl|tm|tn|to|tp|tr|tt|tv|tw|tz|ua|ug|uk|us|uy|uz|va|vc|ve|vg|vi|vn|vu|wf|ws|ye|yt|yu|za|zm|zw)/)(?:[^\\s()<>{}\\[\\]]+|\\([^\\s()]*?\\([^\\s()]+\\)[^\\s()]*?\\)|\\([^\\s]+?\\))+(?:\\([^\\s()]*?\\([^\\s()]+\\)[^\\s()]*?\\)|\\([^\\s]+?\\)|[^\\s`!()\\[\\]{};:'\".,<>?«»“”‘’])|(?:(?<!@)[a-z0-9]+(?:[.\\-][a-z0-9]+)*[.](?:com|net|org|edu|gov|mil|aero|asia|biz|cat|coop|info|int|jobs|mobi|museum|name|post|pro|tel|travel|xxx|ac|ad|ae|af|ag|ai|al|am|an|ao|aq|ar|as|at|au|aw|ax|az|ba|bb|bd|be|bf|bg|bh|bi|bj|bm|bn|bo|br|bs|bt|bv|bw|by|bz|ca|cc|cd|cf|cg|ch|ci|ck|cl|cm|cn|co|cr|cs|cu|cv|cx|cy|cz|dd|de|dj|dk|dm|do|dz|ec|ee|eg|eh|er|es|et|eu|fi|fj|fk|fm|fo|fr|ga|gb|gd|ge|gf|gg|gh|gi|gl|gm|gn|gp|gq|gr|gs|gt|gu|gw|gy|hk|hm|hn|hr|ht|hu|id|ie|il|im|in|io|iq|ir|is|it|je|jm|jo|jp|ke|kg|kh|ki|km|kn|kp|kr|kw|ky|kz|la|lb|lc|li|lk|lr|ls|lt|lu|lv|ly|ma|mc|md|me|mg|mh|mk|ml|mm|mn|mo|mp|mq|mr|ms|mt|mu|mv|mw|mx|my|mz|na|nc|ne|nf|ng|ni|nl|no|np|nr|nu|nz|om|pa|pe|pf|pg|ph|pk|pl|pm|pn|pr|ps|pt|pw|py|qa|re|ro|rs|ru|rw|sa|sb|sc|sd|se|sg|sh|si|sj|Ja|sk|sl|sm|sn|so|sr|ss|st|su|sv|sx|sy|sz|tc|td|tf|tg|th|tj|tk|tl|tm|tn|to|tp|tr|tt|tv|tw|tz|ua|ug|uk|us|uy|uz|va|vc|ve|vg|vi|vn|vu|wf|ws|ye|yt|yu|za|zm|zw)\\b/?(?!@)))\"\"\"\n",
        "    return re.sub(URL_PATTERN, 'xxurl', text)\n",
        "\n",
        "def replace_rep(text):\n",
        "    def _replace_rep(m):\n",
        "        c,cc = m.groups()\n",
        "        return f'{c}xxrep'\n",
        "    re_rep = re.compile(r'(\\S)(\\1{2,})')\n",
        "    return re_rep.sub(_replace_rep, text)\n",
        "\n",
        "def ungroup_emoji(toks):\n",
        "    res = []\n",
        "    for tok in toks:\n",
        "        if emoji.emoji_count(tok) == len(tok):\n",
        "            for char in tok:\n",
        "                res.append(char)\n",
        "        else:\n",
        "            res.append(tok)\n",
        "    return res\n",
        "\n",
        "def process_text(text):\n",
        "    #pre rules\n",
        "    res = text.lower().strip()\n",
        "    res = replace_url(res)\n",
        "    res = replace_rep(res)\n",
        "    \n",
        "    #tokenize\n",
        "    res = [word for word in word_tokenize(res) if word and not re.search(pattern=r\"\\s+\", string=word)]\n",
        "    \n",
        "    #post rules\n",
        "    res = ungroup_emoji(res)\n",
        "    \n",
        "    return res"
      ]
    },
    {
      "cell_type": "markdown",
      "metadata": {
        "colab_type": "text",
        "id": "Zpk58sjEETNj"
      },
      "source": [
        "## Process Text Files to CSVs"
      ]
    },
    {
      "cell_type": "code",
      "execution_count": 6,
      "metadata": {
        "colab": {
          "base_uri": "https://localhost:8080/",
          "height": 34
        },
        "colab_type": "code",
        "id": "gQ8LYedjETNk",
        "outputId": "d262c6cb-d06e-4722-c845-4ff9683c4db9",
        "scrolled": true
      },
      "outputs": [
        {
          "data": {
            "text/plain": [
              "(24063, 2)"
            ]
          },
          "execution_count": 6,
          "metadata": {},
          "output_type": "execute_result"
        }
      ],
      "source": [
        "with open('train.txt') as f:\n",
        "    texts = [line.strip() for line in f.readlines()]\n",
        "f.close()\n",
        "\n",
        "with open('train_label.txt') as f:\n",
        "    categories = [line.strip() for line in f.readlines()]\n",
        "f.close()\n",
        "\n",
        "all_df = pd.DataFrame({'category':categories, 'texts':texts})\n",
        "all_df.to_csv('all_df.csv',index=False)\n",
        "all_df.shape"
      ]
    },
    {
      "cell_type": "code",
      "execution_count": 7,
      "metadata": {
        "colab": {
          "base_uri": "https://localhost:8080/",
          "height": 34
        },
        "colab_type": "code",
        "id": "1TQCUP-ZETNm",
        "outputId": "06901c1e-cf16-4b2d-874c-ea95387e6efc"
      },
      "outputs": [
        {
          "data": {
            "text/plain": [
              "(2674, 2)"
            ]
          },
          "execution_count": 7,
          "metadata": {},
          "output_type": "execute_result"
        }
      ],
      "source": [
        "with open('test.txt') as f:\n",
        "    texts = [line.strip() for line in f.readlines()]\n",
        "f.close()\n",
        "\n",
        "test_df = pd.DataFrame({'category':'test', 'texts':texts})\n",
        "test_df.to_csv('test_df.csv',index=False)\n",
        "test_df.shape"
      ]
    },
    {
      "cell_type": "markdown",
      "metadata": {
        "colab_type": "text",
        "id": "t9u2c5ycETNp"
      },
      "source": [
        "## Load Data"
      ]
    },
    {
      "cell_type": "code",
      "execution_count": 8,
      "metadata": {
        "colab": {},
        "colab_type": "code",
        "id": "pV6QUUcpETNp"
      },
      "outputs": [],
      "source": [
        "all_df = pd.read_csv('all_df.csv')\n",
        "test_df = pd.read_csv('test_df.csv')\n",
        "\n",
        "all_df['processed'] = all_df.texts.map(lambda x: '|'.join(process_text(x)))\n",
        "all_df['wc'] = all_df.processed.map(lambda x: len(x.split('|')))\n",
        "all_df['uwc'] = all_df.processed.map(lambda x: len(set(x.split('|'))))\n",
        "\n",
        "test_df['processed'] = test_df.texts.map(lambda x: '|'.join(process_text(x)))\n",
        "test_df['wc'] = test_df.processed.map(lambda x: len(x.split('|')))\n",
        "test_df['uwc'] = test_df.processed.map(lambda x: len(set(x.split('|'))))"
      ]
    },
    {
      "cell_type": "code",
      "execution_count": null,
      "metadata": {
        "colab": {
          "base_uri": "https://localhost:8080/",
          "height": 102
        },
        "colab_type": "code",
        "id": "UmMY9ckoETNt",
        "outputId": "c91a144a-bf16-4736-be46-437c3f183bef"
      },
      "outputs": [],
      "source": [
        "#prevalence\n",
        "all_df.category.value_counts() / all_df.shape[0]"
      ]
    },
    {
      "cell_type": "markdown",
      "metadata": {
        "colab_type": "text",
        "id": "3f5MlrxZETNx"
      },
      "source": [
        "## Train-validation Split"
      ]
    },
    {
      "cell_type": "markdown",
      "metadata": {
        "colab_type": "text",
        "id": "3x3e0hbCETNy"
      },
      "source": [
        "We perform 85/15 random train-validation split. We also perform under/oversampling to balance out the classes a little."
      ]
    },
    {
      "cell_type": "code",
      "execution_count": null,
      "metadata": {
        "colab": {},
        "colab_type": "code",
        "id": "ElohsU9tETNy"
      },
      "outputs": [],
      "source": [
        "#when finding hyperparameters\n",
        "from sklearn.model_selection import train_test_split\n",
        "train_df, valid_df = train_test_split(all_df, test_size=0.15, random_state=1412)\n",
        "train_df = train_df.reset_index(drop=True)\n",
        "valid_df = valid_df.reset_index(drop=True)\n",
        "\n",
        "#when actually doing it\n",
        "# train_df = all_df.copy()\n",
        "# valid_df = pd.read_csv('valid_df.csv')"
      ]
    },
    {
      "cell_type": "code",
      "execution_count": null,
      "metadata": {
        "colab": {
          "base_uri": "https://localhost:8080/",
          "height": 204
        },
        "colab_type": "code",
        "id": "5Xs1ybBIETN2",
        "outputId": "3c80cc8b-d3a1-4f13-dbf2-039d8b6728ff"
      },
      "outputs": [],
      "source": [
        "valid_df.head()"
      ]
    },
    {
      "cell_type": "code",
      "execution_count": null,
      "metadata": {
        "colab": {
          "base_uri": "https://localhost:8080/",
          "height": 102
        },
        "colab_type": "code",
        "id": "d5XYTWCBETN4",
        "outputId": "90dc9517-d35a-458a-8adc-713eb060d86a"
      },
      "outputs": [],
      "source": [
        "#prevalence\n",
        "print(train_df['category'].value_counts() / train_df.shape[0])"
      ]
    },
    {
      "cell_type": "code",
      "execution_count": null,
      "metadata": {
        "colab": {
          "base_uri": "https://localhost:8080/",
          "height": 102
        },
        "colab_type": "code",
        "id": "VraDHhheETN7",
        "outputId": "e5bfe600-e124-4ab1-f132-485afd5c4879"
      },
      "outputs": [],
      "source": [
        "#prevalence\n",
        "print(valid_df['category'].value_counts() / valid_df.shape[0])"
      ]
    },
    {
      "cell_type": "markdown",
      "metadata": {
        "colab_type": "text",
        "id": "D8tjaAk9ETN-"
      },
      "source": [
        "## Logistic Regression"
      ]
    },
    {
      "cell_type": "markdown",
      "metadata": {
        "colab_type": "text",
        "id": "JsA6jYYbETN_"
      },
      "source": [
        "### Create Features"
      ]
    },
    {
      "cell_type": "code",
      "execution_count": null,
      "metadata": {
        "colab": {},
        "colab_type": "code",
        "id": "o-vG01iDETN_"
      },
      "outputs": [],
      "source": [
        "#dependent variables\n",
        "y_train = train_df['category']\n",
        "y_valid = valid_df['category']"
      ]
    },
    {
      "cell_type": "code",
      "execution_count": null,
      "metadata": {
        "colab": {},
        "colab_type": "code",
        "id": "imL80_09ETOC",
        "outputId": "29d3b185-6623-46ec-fba5-4eaedae091d6"
      },
      "outputs": [],
      "source": [
        "#text faetures\n",
        "from sklearn.feature_extraction.text import TfidfVectorizer\n",
        "from sklearn.linear_model import LogisticRegression\n",
        "\n",
        "tfidf = TfidfVectorizer(tokenizer=process_text, ngram_range=(1,2), min_df=20, sublinear_tf=True)\n",
        "tfidf_fit = tfidf.fit(all_df['texts'])\n",
        "text_train = tfidf_fit.transform(train_df['texts'])\n",
        "text_valid = tfidf_fit.transform(valid_df['texts'])\n",
        "text_test = tfidf_fit.transform(test_df['texts'])\n",
        "text_train.shape, text_valid.shape"
      ]
    },
    {
      "cell_type": "code",
      "execution_count": null,
      "metadata": {
        "colab": {},
        "colab_type": "code",
        "id": "dmgz6Ud0ETOE",
        "outputId": "94af19f3-60d1-4dc3-a09c-1ebc90cc3b56"
      },
      "outputs": [],
      "source": [
        "#word count and unique word counts; actually might not be so useful\n",
        "from sklearn.preprocessing import StandardScaler\n",
        "\n",
        "scaler = StandardScaler()\n",
        "scaler_fit = scaler.fit(all_df[['wc','uwc']].astype(float))\n",
        "print(scaler_fit.mean_, scaler_fit.var_)\n",
        "num_train = scaler_fit.transform(train_df[['wc','uwc']].astype(float))\n",
        "num_valid = scaler_fit.transform(valid_df[['wc','uwc']].astype(float))\n",
        "num_test = scaler_fit.transform(test_df[['wc','uwc']].astype(float))\n",
        "num_train.shape, num_valid.shape"
      ]
    },
    {
      "cell_type": "code",
      "execution_count": null,
      "metadata": {
        "colab": {},
        "colab_type": "code",
        "id": "pkP3Vli2ETOH",
        "outputId": "f9fc9f7a-30ec-43b4-bd80-00f20892d834"
      },
      "outputs": [],
      "source": [
        "#concatenate text and word count features\n",
        "X_train = np.concatenate([num_train,text_train.toarray()],axis=1)\n",
        "X_valid = np.concatenate([num_valid,text_valid.toarray()],axis=1)\n",
        "X_test = np.concatenate([num_test,text_test.toarray()],axis=1)\n",
        "X_train.shape, X_valid.shape"
      ]
    },
    {
      "cell_type": "markdown",
      "metadata": {
        "colab_type": "text",
        "id": "lMj4Ole5ETOK"
      },
      "source": [
        "### Fit Model"
      ]
    },
    {
      "cell_type": "code",
      "execution_count": null,
      "metadata": {
        "colab": {},
        "colab_type": "code",
        "id": "ZtgdgORfETOL",
        "outputId": "74522f42-61f6-41f6-edd5-df443f57200f"
      },
      "outputs": [],
      "source": [
        "#fit logistic regression models\n",
        "model = LogisticRegression(C=2., penalty='l2', solver='liblinear', dual=False, multi_class='ovr')\n",
        "model.fit(X_train,y_train)\n",
        "model.score(X_valid,y_valid)"
      ]
    },
    {
      "cell_type": "markdown",
      "metadata": {
        "colab_type": "text",
        "id": "hvdqJH-dETOO"
      },
      "source": [
        "### See Results"
      ]
    },
    {
      "cell_type": "code",
      "execution_count": null,
      "metadata": {
        "colab": {},
        "colab_type": "code",
        "id": "B1thlcBwETOO"
      },
      "outputs": [],
      "source": [
        "probs = model.predict_proba(X_valid)\n",
        "probs_df = pd.DataFrame(probs)\n",
        "probs_df.columns = model.classes_\n",
        "probs_df['preds'] = model.predict(X_valid)\n",
        "probs_df['category'] = valid_df.category\n",
        "probs_df['texts'] = valid_df.texts\n",
        "probs_df['processed'] = valid_df.processed\n",
        "probs_df['wc'] = valid_df.wc\n",
        "probs_df['uwc'] = valid_df.uwc\n",
        "probs_df['hit'] = (probs_df.preds==probs_df.category)\n",
        "probs_df.to_csv('probs_df_linear.csv',index=False)"
      ]
    },
    {
      "cell_type": "code",
      "execution_count": null,
      "metadata": {
        "colab": {},
        "colab_type": "code",
        "id": "quucygkEETOQ",
        "outputId": "1ce4d694-80ea-4ee2-995d-203c3c358842"
      },
      "outputs": [],
      "source": [
        "from sklearn.metrics import confusion_matrix\n",
        "\n",
        "conf_mat = confusion_matrix(probs_df.category,probs_df.preds)\n",
        "print(model.score(X_valid,y_valid))\n",
        "sns.heatmap(conf_mat, annot=True, fmt='d',\n",
        "            xticklabels=model.classes_, yticklabels=model.classes_)\n",
        "plt.ylabel('Actual')\n",
        "plt.xlabel('Predicted')\n",
        "plt.show()"
      ]
    },
    {
      "cell_type": "markdown",
      "metadata": {
        "colab_type": "text",
        "id": "a9ppl9BkETOT"
      },
      "source": [
        "### Export Augmented Dataset"
      ]
    },
    {
      "cell_type": "code",
      "execution_count": null,
      "metadata": {
        "colab": {},
        "colab_type": "code",
        "id": "YasWPDaIETOT",
        "outputId": "350d05d3-0881-4999-917c-27c977a67b51"
      },
      "outputs": [],
      "source": [
        "test_df['category'] = model.predict(X_test)\n",
        "all_aug = pd.concat([test_df,all_df]).reset_index(drop=True)\n",
        "print(all_aug.shape)\n",
        "# all_aug.to_csv('all_aug.csv',index=False)"
      ]
    },
    {
      "cell_type": "markdown",
      "metadata": {
        "colab_type": "text",
        "id": "e6YmFJfdETOW"
      },
      "source": [
        "### Submission"
      ]
    },
    {
      "cell_type": "code",
      "execution_count": null,
      "metadata": {
        "colab": {},
        "colab_type": "code",
        "id": "moVaIduiETOW"
      },
      "outputs": [],
      "source": [
        "# preds = model.predict(text_test)\n",
        "# submit = pd.read_csv('test_majority.csv')\n",
        "# submit['Class'] = preds\n",
        "# print(submit.shape)\n",
        "# submit.to_csv('submit_linear.csv',index=False)\n",
        "# submit.tail()"
      ]
    },
    {
      "cell_type": "markdown",
      "metadata": {
        "colab_type": "text",
        "id": "hkzISo6mETOY"
      },
      "source": [
        "## [ULMFit](https://github.com/cstorm125/thai2fit) Model"
      ]
    },
    {
      "cell_type": "code",
      "execution_count": null,
      "metadata": {
        "colab": {},
        "colab_type": "code",
        "id": "X1qrhxZrETOZ"
      },
      "outputs": [],
      "source": [
        "from fastai.text import *\n",
        "from fastai.callbacks import CSVLogger, SaveModelCallback\n",
        "from pythainlp.ulmfit import *\n",
        "\n",
        "model_path = 'wisesight_data/'"
      ]
    },
    {
      "cell_type": "code",
      "execution_count": null,
      "metadata": {
        "colab": {},
        "colab_type": "code",
        "id": "udfMgT1hETOb"
      },
      "outputs": [],
      "source": [
        "#when training to find hyperparameters\n",
        "all_df = pd.read_csv('all_df.csv')\n",
        "train_df, valid_df = train_test_split(all_df, test_size=0.15, random_state=1412)\n",
        "\n",
        "#when training with augmented set\n",
        "# train_df = pd.read_csv('all_aug.csv')\n",
        "\n",
        "#test set\n",
        "# test_df = pd.read_csv('test_df.csv')"
      ]
    },
    {
      "cell_type": "markdown",
      "metadata": {
        "colab_type": "text",
        "id": "JJ_z9OWIETOd"
      },
      "source": [
        "### Finetune Language Model"
      ]
    },
    {
      "cell_type": "code",
      "execution_count": null,
      "metadata": {
        "colab": {},
        "colab_type": "code",
        "id": "FvWX5zcXETOe"
      },
      "outputs": [],
      "source": [
        "tt = Tokenizer(tok_func = ThaiTokenizer, lang = 'th', pre_rules = pre_rules_th, post_rules=post_rules_th)\n",
        "processor = [TokenizeProcessor(tokenizer=tt, chunksize=10000, mark_fields=False),\n",
        "            NumericalizeProcessor(vocab=None, max_vocab=60000, min_freq=2)]\n",
        "\n",
        "data_lm = (TextList.from_df(all_df, model_path, cols='texts', processor=processor)\n",
        "    .random_split_by_pct(valid_pct = 0.01, seed = 1412)\n",
        "    .label_for_lm()\n",
        "    .databunch(bs=48))\n",
        "data_lm.sanity_check()\n",
        "# data_lm.save('wisesight_lm.pkl')"
      ]
    },
    {
      "cell_type": "code",
      "execution_count": null,
      "metadata": {
        "colab": {},
        "colab_type": "code",
        "id": "sTwJldhTETOh",
        "outputId": "37887b40-3c2d-4f0b-d33f-b769e746d580"
      },
      "outputs": [],
      "source": [
        "data_lm.sanity_check()\n",
        "len(data_lm.train_ds), len(data_lm.valid_ds)"
      ]
    },
    {
      "cell_type": "code",
      "execution_count": null,
      "metadata": {
        "colab": {},
        "colab_type": "code",
        "id": "NE6yT8tGETOj"
      },
      "outputs": [],
      "source": [
        "config = dict(emb_sz=400, n_hid=1550, n_layers=4, pad_token=1, qrnn=False, tie_weights=True, out_bias=True,\n",
        "             output_p=0.25, hidden_p=0.1, input_p=0.2, embed_p=0.02, weight_p=0.15)\n",
        "trn_args = dict(drop_mult=1., clip=0.12, alpha=2, beta=1)\n",
        "\n",
        "learn = language_model_learner(data_lm, AWD_LSTM, config=config, pretrained=False, **trn_args)\n",
        "\n",
        "#load pretrained models\n",
        "learn.load_pretrained(**_THWIKI_LSTM)"
      ]
    },
    {
      "cell_type": "code",
      "execution_count": null,
      "metadata": {
        "colab": {},
        "colab_type": "code",
        "id": "mnLwsTDiETOl",
        "outputId": "977ab120-4ad2-4068-ad64-bac7106c8f53"
      },
      "outputs": [],
      "source": [
        "#train frozen\n",
        "print('training frozen')\n",
        "learn.freeze_to(-1)\n",
        "learn.fit_one_cycle(1, 1e-2, moms=(0.8, 0.7))"
      ]
    },
    {
      "cell_type": "code",
      "execution_count": null,
      "metadata": {
        "colab": {},
        "colab_type": "code",
        "id": "sEuvGJ2aETOn",
        "outputId": "4e60d1d4-7851-46f4-e3d8-431286616544"
      },
      "outputs": [],
      "source": [
        "#train unfrozen\n",
        "print('training unfrozen')\n",
        "learn.unfreeze()\n",
        "learn.fit_one_cycle(5, 1e-3, moms=(0.8, 0.7))"
      ]
    },
    {
      "cell_type": "code",
      "execution_count": null,
      "metadata": {
        "colab": {},
        "colab_type": "code",
        "id": "odmQoxx_ETOq"
      },
      "outputs": [],
      "source": [
        "# learn.save('wisesight_lm')\n",
        "# learn.save_encoder('wisesight_enc')"
      ]
    },
    {
      "cell_type": "markdown",
      "metadata": {
        "colab_type": "text",
        "id": "TQQohGaKETOs"
      },
      "source": [
        "### Train Text Classifier"
      ]
    },
    {
      "cell_type": "code",
      "execution_count": null,
      "metadata": {
        "colab": {},
        "colab_type": "code",
        "id": "D4RWrIFSETOt",
        "outputId": "83be7ea0-47aa-42ed-a177-49af3a971841"
      },
      "outputs": [],
      "source": [
        "#lm data\n",
        "data_lm = load_data(model_path,'wisesight_lm.pkl')\n",
        "data_lm.sanity_check()\n",
        "\n",
        "#classification data\n",
        "tt = Tokenizer(tok_func = ThaiTokenizer, lang = 'th', pre_rules = pre_rules_th, post_rules=post_rules_th)\n",
        "processor = [TokenizeProcessor(tokenizer=tt, chunksize=10000, mark_fields=False),\n",
        "            NumericalizeProcessor(vocab=data_lm.vocab, max_vocab=60000, min_freq=20)]\n",
        "\n",
        "data_cls = (ItemLists(model_path,train=TextList.from_df(train_df, model_path, cols=['texts'], processor=processor),\n",
        "                     valid=TextList.from_df(valid_df, model_path, cols=['texts'], processor=processor))\n",
        "    .label_from_df('category')\n",
        "    .add_test(TextList.from_df(test_df, model_path, cols=['texts'], processor=processor))\n",
        "    .databunch(bs=50)\n",
        "    )\n",
        "data_cls.sanity_check()\n",
        "print(len(data_cls.vocab.itos))"
      ]
    },
    {
      "cell_type": "code",
      "execution_count": null,
      "metadata": {
        "colab": {},
        "colab_type": "code",
        "id": "oPD_t0RgETOv"
      },
      "outputs": [],
      "source": [
        "#model\n",
        "config = dict(emb_sz=400, n_hid=1550, n_layers=4, pad_token=1, qrnn=False,\n",
        "             output_p=0.4, hidden_p=0.2, input_p=0.6, embed_p=0.1, weight_p=0.5)\n",
        "trn_args = dict(bptt=70, drop_mult=0.7, alpha=2, beta=1, max_len=500)\n",
        "\n",
        "learn = text_classifier_learner(data_cls, AWD_LSTM, config=config, pretrained=False, **trn_args)\n",
        "#load pretrained finetuned model\n",
        "learn.load_encoder('wisesight_enc')"
      ]
    },
    {
      "cell_type": "code",
      "execution_count": null,
      "metadata": {
        "colab": {},
        "colab_type": "code",
        "id": "tc_4zDUgETOz"
      },
      "outputs": [],
      "source": [
        "# #train unfrozen\n",
        "# learn.freeze_to(-1)\n",
        "# learn.fit_one_cycle(1, 2e-2, moms=(0.8, 0.7))\n",
        "# learn.freeze_to(-2)\n",
        "# learn.fit_one_cycle(1, slice(1e-2 / (2.6 ** 4), 1e-2), moms=(0.8, 0.7))\n",
        "# learn.freeze_to(-3)\n",
        "# learn.fit_one_cycle(1, slice(5e-3 / (2.6 ** 4), 5e-3), moms=(0.8, 0.7))\n",
        "# learn.unfreeze()\n",
        "# learn.fit_one_cycle(10, slice(1e-3 / (2.6 ** 4), 1e-3), moms=(0.8, 0.7),\n",
        "#                    callbacks=[SaveModelCallback(learn, every='improvement', monitor='accuracy', name='bestmodel')])"
      ]
    },
    {
      "cell_type": "markdown",
      "metadata": {
        "colab_type": "text",
        "id": "vjpJ0HqtETO1"
      },
      "source": [
        "Training takes about 20 minutes so we use the script `train_model.py` to do it with the following results (validation run):\n",
        "\n",
        "```\n",
        "epoch     train_loss  valid_loss  accuracy\n",
        "1         0.812156    0.753478    0.687532\n",
        "Total time: 00:56\n",
        "epoch     train_loss  valid_loss  accuracy\n",
        "1         0.740403    0.699093    0.714394\n",
        "Total time: 00:57\n",
        "epoch     train_loss  valid_loss  accuracy\n",
        "1         0.727394    0.668807    0.723011\n",
        "Total time: 01:34\n",
        "epoch     train_loss  valid_loss  accuracy\n",
        "1         0.722163    0.675351    0.723517\n",
        "2         0.675266    0.654477    0.738723\n",
        "3         0.669178    0.641070    0.737962\n",
        "4         0.612528    0.637456    0.744551\n",
        "5         0.618259    0.635149    0.749366\n",
        "6         0.572621    0.651169    0.749873\n",
        "7         0.561985    0.661739    0.747593\n",
        "8         0.534753    0.673563    0.738469\n",
        "9         0.530844    0.688871    0.746072\n",
        "10        0.522788    0.670024    0.743031\n",
        "Total time: 23:42\n",
        "```"
      ]
    },
    {
      "cell_type": "markdown",
      "metadata": {
        "colab_type": "text",
        "id": "WgQ86mEEETO1"
      },
      "source": [
        "### See Results"
      ]
    },
    {
      "cell_type": "code",
      "execution_count": null,
      "metadata": {
        "colab": {},
        "colab_type": "code",
        "id": "chJBe_qKETO2"
      },
      "outputs": [],
      "source": [
        "learn.load('bestmodel');\n",
        "#get predictions\n",
        "probs, y_true, loss = learn.get_preds(ds_type = DatasetType.Valid, ordered=True, with_loss=True)\n",
        "classes = learn.data.train_ds.classes\n",
        "y_true = np.array([classes[i] for i in y_true.numpy()])\n",
        "preds = np.array([classes[i] for i in probs.argmax(1).numpy()])\n",
        "prob = probs.numpy()\n",
        "loss = loss.numpy()"
      ]
    },
    {
      "cell_type": "code",
      "execution_count": null,
      "metadata": {
        "colab": {},
        "colab_type": "code",
        "id": "JkhPQ4YoETO6",
        "outputId": "fd62e654-2280-4fe8-d115-258b21c2eb73"
      },
      "outputs": [],
      "source": [
        "to_df = np.concatenate([y_true[:,None],preds[:,None],loss[:,None],prob],1)\n",
        "probs_df = pd.DataFrame(to_df)\n",
        "probs_df.columns = ['category','preds','loss'] + classes\n",
        "probs_df['hit'] = (probs_df.category == probs_df.preds)\n",
        "probs_df['texts'] = valid_df.texts\n",
        "(y_true==preds).mean()"
      ]
    },
    {
      "cell_type": "code",
      "execution_count": null,
      "metadata": {
        "colab": {},
        "colab_type": "code",
        "id": "Qrg-9qQjETO-",
        "outputId": "8073f085-4b32-4416-cc6f-ddbe8123702f"
      },
      "outputs": [],
      "source": [
        "from sklearn.metrics import confusion_matrix\n",
        "import seaborn as sns\n",
        "\n",
        "conf_mat = confusion_matrix(probs_df.category,probs_df.preds)\n",
        "sns.heatmap(conf_mat, annot=True, fmt='d',\n",
        "            xticklabels=classes, yticklabels=classes)\n",
        "plt.ylabel('Actual')\n",
        "plt.xlabel('Predicted')\n",
        "plt.show()"
      ]
    },
    {
      "cell_type": "markdown",
      "metadata": {
        "colab_type": "text",
        "id": "0DMPpFEvETPB"
      },
      "source": [
        "### Submission"
      ]
    },
    {
      "cell_type": "code",
      "execution_count": null,
      "metadata": {
        "colab": {},
        "colab_type": "code",
        "id": "gGoL7AWBETPC"
      },
      "outputs": [],
      "source": [
        "# submit = pd.read_csv('test_majority.csv')\n",
        "# submit['Class'] = preds\n",
        "# print(submit.shape)\n",
        "# submit.to_csv('submit_ulmfit.csv',index=False)\n",
        "# submit.tail()"
      ]
    },
    {
      "cell_type": "markdown",
      "metadata": {
        "colab_type": "text",
        "id": "Fz-yvnEGETPE"
      },
      "source": [
        "## Average Class Probabilities"
      ]
    },
    {
      "cell_type": "code",
      "execution_count": null,
      "metadata": {
        "colab": {},
        "colab_type": "code",
        "id": "3GtXLoWfETPF",
        "outputId": "19697283-5f6b-44f9-d325-035051699b0b"
      },
      "outputs": [],
      "source": [
        "#ulmfit trained with augmented set\n",
        "probs_df_ulmfit = pd.read_csv('probs_df_ulmfit.csv')\n",
        "\n",
        "#logistic regression trained with training set\n",
        "probs_df = pd.read_csv('probs_df_linear.csv')\n",
        "\n",
        "probs_df_ulmfit.head()"
      ]
    },
    {
      "cell_type": "code",
      "execution_count": null,
      "metadata": {
        "colab": {},
        "colab_type": "code",
        "id": "0daYwhRWETPH"
      },
      "outputs": [],
      "source": [
        "#ulmfit probabilities\n",
        "ulm = np.array(ulmfit_probs[['neg','neu','pos','q']])[None,:]\n",
        "\n",
        "#logistic regression probabilities\n",
        "lr = np.array(probs_df[['neg','neu','pos','q']])[None,:]\n",
        "\n",
        "#take average\n",
        "mean_probs = np.concatenate([lr,ulm],0).mean(0)\n",
        "mean_preds = np.argmax(mean_probs,1)\n",
        "mean_preds = np.array([['neg','neu','pos','q'][i] for i in mean_preds])"
      ]
    },
    {
      "cell_type": "markdown",
      "metadata": {
        "colab_type": "text",
        "id": "t5LrrYQ_ETPJ"
      },
      "source": [
        "### Submit"
      ]
    },
    {
      "cell_type": "code",
      "execution_count": null,
      "metadata": {
        "colab": {},
        "colab_type": "code",
        "id": "ckUoeq-7ETPK"
      },
      "outputs": [],
      "source": [
        "# preds = model.predict(text_test)\n",
        "# submit = pd.read_csv('test_majority.csv')\n",
        "# submit['Class'] = mean_preds\n",
        "# print(submit.shape)\n",
        "# submit.to_csv('submit_mean.csv',index=False)\n",
        "# submit.tail()"
      ]
    },
    {
      "cell_type": "markdown",
      "metadata": {
        "colab_type": "text",
        "id": "WHxPDfTTETPM"
      },
      "source": [
        "## FastText"
      ]
    },
    {
      "cell_type": "code",
      "execution_count": null,
      "metadata": {
        "colab": {},
        "colab_type": "code",
        "id": "tvgW0DM1ETPM"
      },
      "outputs": [],
      "source": [
        "import codecs\n",
        "\n",
        "def replace_newline(t):\n",
        "    return re.sub('[\\n]{1,}', ' ', t)\n",
        "\n",
        "ft_data = 'ft_data/'\n",
        "\n",
        "train_df = pd.read_csv('all_df.csv')\n",
        "test_df = pd.read_csv('test_df.csv')\n",
        "all_df = pd.concat([train_df,test_df],0).reset_index(drop=True)"
      ]
    },
    {
      "cell_type": "code",
      "execution_count": null,
      "metadata": {
        "colab": {},
        "colab_type": "code",
        "id": "BPRDi3yNETPP"
      },
      "outputs": [],
      "source": [
        "df_txts = ['train','test']\n",
        "dfs = [train_df,test_df]\n",
        "\n",
        "for i in range(2):\n",
        "    df = dfs[i]\n",
        "    ft_lines = []\n",
        "    for _,row in df.iterrows():\n",
        "        ft_lab = f'__label__{row[\"category\"]}'\n",
        "        ft_text = replace_newline(f'{row[\"texts\"]}')\n",
        "        ft_line = f'{ft_lab} {ft_text}'\n",
        "        ft_lines.append(ft_line)\n",
        "\n",
        "    doc = '\\n'.join(ft_lines)\n",
        "    with codecs.open(f'{ft_data}{df_txts[i]}.txt','w', encoding=\"utf-8\") as f:\n",
        "        f.write(doc)\n",
        "    f.close()"
      ]
    },
    {
      "cell_type": "code",
      "execution_count": null,
      "metadata": {
        "colab": {},
        "colab_type": "code",
        "id": "LD2-2AO1ETPS"
      },
      "outputs": [],
      "source": [
        "#for fasttext embedding finetuning\n",
        "ft_lines = []\n",
        "for _,row in all_df.iterrows():\n",
        "    ft_lab = '__label__0'\n",
        "    ft_text = replace_newline(f'{row[\"texts\"]}')\n",
        "    ft_line = f'{ft_lab} {ft_text}'\n",
        "    ft_lines.append(ft_line)\n",
        "\n",
        "doc = '\\n'.join(ft_lines)\n",
        "with codecs.open(f'{ft_data}all.txt','w', encoding=\"utf-8\") as f:\n",
        "    f.write(doc)\n",
        "f.close()"
      ]
    },
    {
      "cell_type": "code",
      "execution_count": null,
      "metadata": {
        "colab": {},
        "colab_type": "code",
        "id": "wt3U95jkETPV",
        "outputId": "fcb0bd5c-19a9-40a1-c8dd-443d1e567011"
      },
      "outputs": [],
      "source": [
        "#finetune with all data\n",
        "!/root/fastText/fasttext skipgram \\\n",
        "-pretrainedVectors 'model/wiki.th.vec' -dim 300 \\\n",
        "-input ft_data/all.txt -output 'model/finetuned'"
      ]
    },
    {
      "cell_type": "code",
      "execution_count": null,
      "metadata": {
        "colab": {},
        "colab_type": "code",
        "id": "Ggond0q8ETPX",
        "outputId": "fb2022ca-79bf-4b9f-8777-d384771a0742"
      },
      "outputs": [],
      "source": [
        "#train classifier\n",
        "!/root/fastText/fasttext supervised \\\n",
        "-input 'ft_data/train.txt' -output 'model/sentiment' \\\n",
        "-pretrainedVectors 'model/finetuned.vec' -epoch 5 -dim 300 -wordNgrams 2"
      ]
    },
    {
      "cell_type": "code",
      "execution_count": null,
      "metadata": {
        "colab": {},
        "colab_type": "code",
        "id": "C-do7N3zETPZ"
      },
      "outputs": [],
      "source": [
        "#get prediction\n",
        "preds = !/root/fastText/fasttext predict 'model/sentiment.bin' 'ft_data/test.txt'\n",
        "preds = [i.split('__')[-1] for i in preds]"
      ]
    },
    {
      "cell_type": "code",
      "execution_count": null,
      "metadata": {
        "colab": {},
        "colab_type": "code",
        "id": "jNTXgCnAETPb",
        "outputId": "d73922ad-65d1-4441-abaa-617a2b79003e"
      },
      "outputs": [],
      "source": [
        "submit = pd.read_csv('test_majority.csv')\n",
        "submit['Class'] = preds\n",
        "print(submit.shape)\n",
        "submit.to_csv('submit_fasttext.csv',index=False)\n",
        "submit.tail()"
      ]
    },
    {
      "cell_type": "markdown",
      "metadata": {
        "colab_type": "text",
        "id": "Ph396nygGXRI"
      },
      "source": [
        "## [Multilingual Universal Sentence Encoder](https://tfhub.dev/google/universal-sentence-encoder-multilingual/3)"
      ]
    },
    {
      "cell_type": "code",
      "execution_count": null,
      "metadata": {
        "colab": {},
        "colab_type": "code",
        "id": "6jXfYwHtGiuw"
      },
      "outputs": [],
      "source": [
        "import tensorflow_hub as hub\n",
        "import tensorflow_text\n",
        "import tensorflow as tf #tensorflow 2.1.0\n",
        "\n",
        "enc = hub.load('https://tfhub.dev/google/universal-sentence-encoder-multilingual/3')"
      ]
    },
    {
      "cell_type": "code",
      "execution_count": null,
      "metadata": {
        "colab": {},
        "colab_type": "code",
        "id": "HH6GOPPkETPd"
      },
      "outputs": [],
      "source": [
        "#dependent variables\n",
        "y_train = train_df['category']\n",
        "y_test = test_df['category']"
      ]
    },
    {
      "cell_type": "code",
      "execution_count": null,
      "metadata": {
        "colab": {},
        "colab_type": "code",
        "id": "p_yrk1wfG4Cw"
      },
      "outputs": [],
      "source": [
        "X_trains = []\n",
        "X_tests = []\n",
        "bs = 10"
      ]
    },
    {
      "cell_type": "code",
      "execution_count": null,
      "metadata": {
        "colab": {
          "base_uri": "https://localhost:8080/",
          "height": 117,
          "referenced_widgets": [
            "3a6cd8f8459e4bff8b868da026eb09b4",
            "607b68c114ed4ecd8370d25e3e948fc5",
            "8dda07a9ae35421883a6acb7a92ee2d7",
            "1d099829a44240debaaea01e06a7ece2",
            "78cea2e8b8124eeab4193d3c31ae5924",
            "70ce3749b1034d58a424a80bbaf5cecc",
            "a3bfb71ee02142cd8b566e845305602b",
            "bc926353910d4558bc8371458370e862"
          ]
        },
        "colab_type": "code",
        "id": "CMcs8ZGrG8me",
        "outputId": "180dbe5d-b9ca-42dc-d3ca-117d7efd8d3b"
      },
      "outputs": [],
      "source": [
        "for i in tqdm_notebook(range(y_test.shape[0]//bs+1)):\n",
        "    X_tests.append(enc(test_df.texts[(i*bs):((i+1)*bs)]).numpy())"
      ]
    },
    {
      "cell_type": "code",
      "execution_count": null,
      "metadata": {
        "colab": {
          "base_uri": "https://localhost:8080/",
          "height": 117,
          "referenced_widgets": [
            "e68623480aa345308a3a3d3c9c3beae6",
            "0661116d7b1a4e4a8cd3720b7ecb7dbd",
            "327d7ec5d0ad4a62ac895909581c2400",
            "2813db20cbdc42d88fb9a9ed30fe474e",
            "eb6d333c83994b9f9c696e871de21d64",
            "0451c899b980471abf8bbe9e0cf5cb47",
            "ad14754eaa5b454997788412b9383213",
            "8e0f655fbdbc4c9889d1a59842c0e236"
          ]
        },
        "colab_type": "code",
        "id": "C8k9WYrUG-l3",
        "outputId": "ed32f17b-0b0b-45c9-e703-b0bba170bf79"
      },
      "outputs": [],
      "source": [
        "for i in tqdm_notebook(range(y_train.shape[0]//bs+1)):\n",
        "    X_trains.append(enc(train_df.texts[(i*bs):((i+1)*bs)]).numpy())"
      ]
    },
    {
      "cell_type": "code",
      "execution_count": null,
      "metadata": {
        "colab": {
          "base_uri": "https://localhost:8080/",
          "height": 34
        },
        "colab_type": "code",
        "id": "LRpQVwSmHzA7",
        "outputId": "24dd1517-c310-406b-8fbf-b221a6e153da"
      },
      "outputs": [],
      "source": [
        "X_test = np.concatenate(X_tests,0)\n",
        "X_train = np.concatenate(X_trains,0)\n",
        "X_train.shape, X_test.shape"
      ]
    },
    {
      "cell_type": "code",
      "execution_count": null,
      "metadata": {
        "colab": {
          "base_uri": "https://localhost:8080/",
          "height": 85
        },
        "colab_type": "code",
        "id": "pyxtU_PmIEnK",
        "outputId": "94ad2218-f1df-4e82-a226-6a7beaf020c9"
      },
      "outputs": [],
      "source": [
        "from sklearn.svm import LinearSVC\n",
        "\n",
        "text_clf = LinearSVC(class_weight='balanced')\n",
        "text_clf.fit(X_train, y_train)"
      ]
    },
    {
      "cell_type": "code",
      "execution_count": null,
      "metadata": {
        "colab": {
          "base_uri": "https://localhost:8080/",
          "height": 221
        },
        "colab_type": "code",
        "id": "Uy5CCK0SIJPn",
        "outputId": "a7332dd9-b3da-479c-a946-2cf9ac815020"
      },
      "outputs": [],
      "source": [
        "# preds = text_clf.predict(X_test)\n",
        "# submit = pd.read_csv('test_majority.csv')\n",
        "# submit['Class'] = preds\n",
        "# print(submit.shape)\n",
        "# submit.to_csv('submit_use.csv',index=False)\n",
        "# submit.tail()"
      ]
    },
    {
      "cell_type": "code",
      "execution_count": null,
      "metadata": {
        "colab": {
          "base_uri": "https://localhost:8080/",
          "height": 34
        },
        "colab_type": "code",
        "id": "SUgcJM9tJL24",
        "outputId": "1410d058-584c-4aad-eab0-c8df95a725ef"
      },
      "outputs": [],
      "source": [
        "(lab.Class==submit.Class).mean()"
      ]
    },
    {
      "cell_type": "code",
      "execution_count": null,
      "metadata": {
        "colab": {},
        "colab_type": "code",
        "id": "BMApzM0FJMxn"
      },
      "outputs": [],
      "source": []
    }
  ],
  "metadata": {
    "accelerator": "GPU",
    "colab": {
      "name": "competition.ipynb",
      "provenance": []
    },
    "kernelspec": {
      "display_name": "my_test_env",
      "language": "python",
      "name": "my_test_env"
    },
    "language_info": {
      "codemirror_mode": {
        "name": "ipython",
        "version": 3
      },
      "file_extension": ".py",
      "mimetype": "text/x-python",
      "name": "python",
      "nbconvert_exporter": "python",
      "pygments_lexer": "ipython3",
      "version": "3.8.8"
    },
    "widgets": {
      "application/vnd.jupyter.widget-state+json": {
        "0451c899b980471abf8bbe9e0cf5cb47": {
          "model_module": "@jupyter-widgets/base",
          "model_name": "LayoutModel",
          "state": {
            "_model_module": "@jupyter-widgets/base",
            "_model_module_version": "1.2.0",
            "_model_name": "LayoutModel",
            "_view_count": null,
            "_view_module": "@jupyter-widgets/base",
            "_view_module_version": "1.2.0",
            "_view_name": "LayoutView",
            "align_content": null,
            "align_items": null,
            "align_self": null,
            "border": null,
            "bottom": null,
            "display": null,
            "flex": null,
            "flex_flow": null,
            "grid_area": null,
            "grid_auto_columns": null,
            "grid_auto_flow": null,
            "grid_auto_rows": null,
            "grid_column": null,
            "grid_gap": null,
            "grid_row": null,
            "grid_template_areas": null,
            "grid_template_columns": null,
            "grid_template_rows": null,
            "height": null,
            "justify_content": null,
            "justify_items": null,
            "left": null,
            "margin": null,
            "max_height": null,
            "max_width": null,
            "min_height": null,
            "min_width": null,
            "object_fit": null,
            "object_position": null,
            "order": null,
            "overflow": null,
            "overflow_x": null,
            "overflow_y": null,
            "padding": null,
            "right": null,
            "top": null,
            "visibility": null,
            "width": null
          }
        },
        "0661116d7b1a4e4a8cd3720b7ecb7dbd": {
          "model_module": "@jupyter-widgets/base",
          "model_name": "LayoutModel",
          "state": {
            "_model_module": "@jupyter-widgets/base",
            "_model_module_version": "1.2.0",
            "_model_name": "LayoutModel",
            "_view_count": null,
            "_view_module": "@jupyter-widgets/base",
            "_view_module_version": "1.2.0",
            "_view_name": "LayoutView",
            "align_content": null,
            "align_items": null,
            "align_self": null,
            "border": null,
            "bottom": null,
            "display": null,
            "flex": null,
            "flex_flow": null,
            "grid_area": null,
            "grid_auto_columns": null,
            "grid_auto_flow": null,
            "grid_auto_rows": null,
            "grid_column": null,
            "grid_gap": null,
            "grid_row": null,
            "grid_template_areas": null,
            "grid_template_columns": null,
            "grid_template_rows": null,
            "height": null,
            "justify_content": null,
            "justify_items": null,
            "left": null,
            "margin": null,
            "max_height": null,
            "max_width": null,
            "min_height": null,
            "min_width": null,
            "object_fit": null,
            "object_position": null,
            "order": null,
            "overflow": null,
            "overflow_x": null,
            "overflow_y": null,
            "padding": null,
            "right": null,
            "top": null,
            "visibility": null,
            "width": null
          }
        },
        "1d099829a44240debaaea01e06a7ece2": {
          "model_module": "@jupyter-widgets/controls",
          "model_name": "HTMLModel",
          "state": {
            "_dom_classes": [],
            "_model_module": "@jupyter-widgets/controls",
            "_model_module_version": "1.5.0",
            "_model_name": "HTMLModel",
            "_view_count": null,
            "_view_module": "@jupyter-widgets/controls",
            "_view_module_version": "1.5.0",
            "_view_name": "HTMLView",
            "description": "",
            "description_tooltip": null,
            "layout": "IPY_MODEL_bc926353910d4558bc8371458370e862",
            "placeholder": "​",
            "style": "IPY_MODEL_a3bfb71ee02142cd8b566e845305602b",
            "value": " 268/268 [00:17&lt;00:00, 14.98it/s]"
          }
        },
        "2813db20cbdc42d88fb9a9ed30fe474e": {
          "model_module": "@jupyter-widgets/controls",
          "model_name": "HTMLModel",
          "state": {
            "_dom_classes": [],
            "_model_module": "@jupyter-widgets/controls",
            "_model_module_version": "1.5.0",
            "_model_name": "HTMLModel",
            "_view_count": null,
            "_view_module": "@jupyter-widgets/controls",
            "_view_module_version": "1.5.0",
            "_view_name": "HTMLView",
            "description": "",
            "description_tooltip": null,
            "layout": "IPY_MODEL_8e0f655fbdbc4c9889d1a59842c0e236",
            "placeholder": "​",
            "style": "IPY_MODEL_ad14754eaa5b454997788412b9383213",
            "value": " 2046/2046 [00:52&lt;00:00, 38.76it/s]"
          }
        },
        "327d7ec5d0ad4a62ac895909581c2400": {
          "model_module": "@jupyter-widgets/controls",
          "model_name": "FloatProgressModel",
          "state": {
            "_dom_classes": [],
            "_model_module": "@jupyter-widgets/controls",
            "_model_module_version": "1.5.0",
            "_model_name": "FloatProgressModel",
            "_view_count": null,
            "_view_module": "@jupyter-widgets/controls",
            "_view_module_version": "1.5.0",
            "_view_name": "ProgressView",
            "bar_style": "success",
            "description": "100%",
            "description_tooltip": null,
            "layout": "IPY_MODEL_0451c899b980471abf8bbe9e0cf5cb47",
            "max": 2046,
            "min": 0,
            "orientation": "horizontal",
            "style": "IPY_MODEL_eb6d333c83994b9f9c696e871de21d64",
            "value": 2046
          }
        },
        "3a6cd8f8459e4bff8b868da026eb09b4": {
          "model_module": "@jupyter-widgets/controls",
          "model_name": "HBoxModel",
          "state": {
            "_dom_classes": [],
            "_model_module": "@jupyter-widgets/controls",
            "_model_module_version": "1.5.0",
            "_model_name": "HBoxModel",
            "_view_count": null,
            "_view_module": "@jupyter-widgets/controls",
            "_view_module_version": "1.5.0",
            "_view_name": "HBoxView",
            "box_style": "",
            "children": [
              "IPY_MODEL_8dda07a9ae35421883a6acb7a92ee2d7",
              "IPY_MODEL_1d099829a44240debaaea01e06a7ece2"
            ],
            "layout": "IPY_MODEL_607b68c114ed4ecd8370d25e3e948fc5"
          }
        },
        "607b68c114ed4ecd8370d25e3e948fc5": {
          "model_module": "@jupyter-widgets/base",
          "model_name": "LayoutModel",
          "state": {
            "_model_module": "@jupyter-widgets/base",
            "_model_module_version": "1.2.0",
            "_model_name": "LayoutModel",
            "_view_count": null,
            "_view_module": "@jupyter-widgets/base",
            "_view_module_version": "1.2.0",
            "_view_name": "LayoutView",
            "align_content": null,
            "align_items": null,
            "align_self": null,
            "border": null,
            "bottom": null,
            "display": null,
            "flex": null,
            "flex_flow": null,
            "grid_area": null,
            "grid_auto_columns": null,
            "grid_auto_flow": null,
            "grid_auto_rows": null,
            "grid_column": null,
            "grid_gap": null,
            "grid_row": null,
            "grid_template_areas": null,
            "grid_template_columns": null,
            "grid_template_rows": null,
            "height": null,
            "justify_content": null,
            "justify_items": null,
            "left": null,
            "margin": null,
            "max_height": null,
            "max_width": null,
            "min_height": null,
            "min_width": null,
            "object_fit": null,
            "object_position": null,
            "order": null,
            "overflow": null,
            "overflow_x": null,
            "overflow_y": null,
            "padding": null,
            "right": null,
            "top": null,
            "visibility": null,
            "width": null
          }
        },
        "70ce3749b1034d58a424a80bbaf5cecc": {
          "model_module": "@jupyter-widgets/base",
          "model_name": "LayoutModel",
          "state": {
            "_model_module": "@jupyter-widgets/base",
            "_model_module_version": "1.2.0",
            "_model_name": "LayoutModel",
            "_view_count": null,
            "_view_module": "@jupyter-widgets/base",
            "_view_module_version": "1.2.0",
            "_view_name": "LayoutView",
            "align_content": null,
            "align_items": null,
            "align_self": null,
            "border": null,
            "bottom": null,
            "display": null,
            "flex": null,
            "flex_flow": null,
            "grid_area": null,
            "grid_auto_columns": null,
            "grid_auto_flow": null,
            "grid_auto_rows": null,
            "grid_column": null,
            "grid_gap": null,
            "grid_row": null,
            "grid_template_areas": null,
            "grid_template_columns": null,
            "grid_template_rows": null,
            "height": null,
            "justify_content": null,
            "justify_items": null,
            "left": null,
            "margin": null,
            "max_height": null,
            "max_width": null,
            "min_height": null,
            "min_width": null,
            "object_fit": null,
            "object_position": null,
            "order": null,
            "overflow": null,
            "overflow_x": null,
            "overflow_y": null,
            "padding": null,
            "right": null,
            "top": null,
            "visibility": null,
            "width": null
          }
        },
        "78cea2e8b8124eeab4193d3c31ae5924": {
          "model_module": "@jupyter-widgets/controls",
          "model_name": "ProgressStyleModel",
          "state": {
            "_model_module": "@jupyter-widgets/controls",
            "_model_module_version": "1.5.0",
            "_model_name": "ProgressStyleModel",
            "_view_count": null,
            "_view_module": "@jupyter-widgets/base",
            "_view_module_version": "1.2.0",
            "_view_name": "StyleView",
            "bar_color": null,
            "description_width": "initial"
          }
        },
        "8dda07a9ae35421883a6acb7a92ee2d7": {
          "model_module": "@jupyter-widgets/controls",
          "model_name": "FloatProgressModel",
          "state": {
            "_dom_classes": [],
            "_model_module": "@jupyter-widgets/controls",
            "_model_module_version": "1.5.0",
            "_model_name": "FloatProgressModel",
            "_view_count": null,
            "_view_module": "@jupyter-widgets/controls",
            "_view_module_version": "1.5.0",
            "_view_name": "ProgressView",
            "bar_style": "success",
            "description": "100%",
            "description_tooltip": null,
            "layout": "IPY_MODEL_70ce3749b1034d58a424a80bbaf5cecc",
            "max": 268,
            "min": 0,
            "orientation": "horizontal",
            "style": "IPY_MODEL_78cea2e8b8124eeab4193d3c31ae5924",
            "value": 268
          }
        },
        "8e0f655fbdbc4c9889d1a59842c0e236": {
          "model_module": "@jupyter-widgets/base",
          "model_name": "LayoutModel",
          "state": {
            "_model_module": "@jupyter-widgets/base",
            "_model_module_version": "1.2.0",
            "_model_name": "LayoutModel",
            "_view_count": null,
            "_view_module": "@jupyter-widgets/base",
            "_view_module_version": "1.2.0",
            "_view_name": "LayoutView",
            "align_content": null,
            "align_items": null,
            "align_self": null,
            "border": null,
            "bottom": null,
            "display": null,
            "flex": null,
            "flex_flow": null,
            "grid_area": null,
            "grid_auto_columns": null,
            "grid_auto_flow": null,
            "grid_auto_rows": null,
            "grid_column": null,
            "grid_gap": null,
            "grid_row": null,
            "grid_template_areas": null,
            "grid_template_columns": null,
            "grid_template_rows": null,
            "height": null,
            "justify_content": null,
            "justify_items": null,
            "left": null,
            "margin": null,
            "max_height": null,
            "max_width": null,
            "min_height": null,
            "min_width": null,
            "object_fit": null,
            "object_position": null,
            "order": null,
            "overflow": null,
            "overflow_x": null,
            "overflow_y": null,
            "padding": null,
            "right": null,
            "top": null,
            "visibility": null,
            "width": null
          }
        },
        "a3bfb71ee02142cd8b566e845305602b": {
          "model_module": "@jupyter-widgets/controls",
          "model_name": "DescriptionStyleModel",
          "state": {
            "_model_module": "@jupyter-widgets/controls",
            "_model_module_version": "1.5.0",
            "_model_name": "DescriptionStyleModel",
            "_view_count": null,
            "_view_module": "@jupyter-widgets/base",
            "_view_module_version": "1.2.0",
            "_view_name": "StyleView",
            "description_width": ""
          }
        },
        "ad14754eaa5b454997788412b9383213": {
          "model_module": "@jupyter-widgets/controls",
          "model_name": "DescriptionStyleModel",
          "state": {
            "_model_module": "@jupyter-widgets/controls",
            "_model_module_version": "1.5.0",
            "_model_name": "DescriptionStyleModel",
            "_view_count": null,
            "_view_module": "@jupyter-widgets/base",
            "_view_module_version": "1.2.0",
            "_view_name": "StyleView",
            "description_width": ""
          }
        },
        "bc926353910d4558bc8371458370e862": {
          "model_module": "@jupyter-widgets/base",
          "model_name": "LayoutModel",
          "state": {
            "_model_module": "@jupyter-widgets/base",
            "_model_module_version": "1.2.0",
            "_model_name": "LayoutModel",
            "_view_count": null,
            "_view_module": "@jupyter-widgets/base",
            "_view_module_version": "1.2.0",
            "_view_name": "LayoutView",
            "align_content": null,
            "align_items": null,
            "align_self": null,
            "border": null,
            "bottom": null,
            "display": null,
            "flex": null,
            "flex_flow": null,
            "grid_area": null,
            "grid_auto_columns": null,
            "grid_auto_flow": null,
            "grid_auto_rows": null,
            "grid_column": null,
            "grid_gap": null,
            "grid_row": null,
            "grid_template_areas": null,
            "grid_template_columns": null,
            "grid_template_rows": null,
            "height": null,
            "justify_content": null,
            "justify_items": null,
            "left": null,
            "margin": null,
            "max_height": null,
            "max_width": null,
            "min_height": null,
            "min_width": null,
            "object_fit": null,
            "object_position": null,
            "order": null,
            "overflow": null,
            "overflow_x": null,
            "overflow_y": null,
            "padding": null,
            "right": null,
            "top": null,
            "visibility": null,
            "width": null
          }
        },
        "e68623480aa345308a3a3d3c9c3beae6": {
          "model_module": "@jupyter-widgets/controls",
          "model_name": "HBoxModel",
          "state": {
            "_dom_classes": [],
            "_model_module": "@jupyter-widgets/controls",
            "_model_module_version": "1.5.0",
            "_model_name": "HBoxModel",
            "_view_count": null,
            "_view_module": "@jupyter-widgets/controls",
            "_view_module_version": "1.5.0",
            "_view_name": "HBoxView",
            "box_style": "",
            "children": [
              "IPY_MODEL_327d7ec5d0ad4a62ac895909581c2400",
              "IPY_MODEL_2813db20cbdc42d88fb9a9ed30fe474e"
            ],
            "layout": "IPY_MODEL_0661116d7b1a4e4a8cd3720b7ecb7dbd"
          }
        },
        "eb6d333c83994b9f9c696e871de21d64": {
          "model_module": "@jupyter-widgets/controls",
          "model_name": "ProgressStyleModel",
          "state": {
            "_model_module": "@jupyter-widgets/controls",
            "_model_module_version": "1.5.0",
            "_model_name": "ProgressStyleModel",
            "_view_count": null,
            "_view_module": "@jupyter-widgets/base",
            "_view_module_version": "1.2.0",
            "_view_name": "StyleView",
            "bar_color": null,
            "description_width": "initial"
          }
        }
      }
    }
  },
  "nbformat": 4,
  "nbformat_minor": 0
}
